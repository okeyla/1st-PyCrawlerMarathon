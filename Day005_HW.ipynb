{
 "cells": [
  {
   "cell_type": "markdown",
   "metadata": {},
   "source": [
    "# API 資料串接 - 以 Dcard API 實作範例\n",
    "\n",
    "* 利用 urllib 套件的 urlretrieve 方法下載檔案\n",
    "* 了解 Python File I/O 讀檔、寫檔的用法\n",
    "* 能用運用資源管理器 With Statement 優化寫法"
   ]
  },
  {
   "cell_type": "markdown",
   "metadata": {},
   "source": [
    "## 作業目標\n",
    "\n",
    "* 請利用 API: https://www.dcard.tw/_api/forums/pet/posts?popular=true 回答下列問題：\n",
    "\n",
    "1. 這個 API 一次會回傳幾筆資料？每一筆資料包含哪些欄位？\n",
    "2. 取出每一筆資料的「標題」、「貼文時間」、「留言人數」、「按讚人數」\n",
    "3. 計算熱門/非熱門文章的「平均留言人數」與「平均按讚人數」"
   ]
  },
  {
   "cell_type": "code",
   "execution_count": 12,
   "metadata": {},
   "outputs": [
    {
     "name": "stdout",
     "output_type": "stream",
     "text": [
      "30\n",
      "dict_keys(['id', 'title', 'excerpt', 'anonymousSchool', 'anonymousDepartment', 'pinned', 'forumId', 'replyId', 'createdAt', 'updatedAt', 'commentCount', 'likeCount', 'withNickname', 'tags', 'topics', 'meta', 'forumName', 'forumAlias', 'gender', 'school', 'replyTitle', 'mediaMeta', 'reactions', 'hidden', 'customStyle', 'isSuspiciousAccount', 'layout', 'withImages', 'withVideos', 'media', 'reportReasonText', 'postAvatar'])\n"
     ]
    }
   ],
   "source": [
    "# 1. 這個 API 一次會回傳幾筆資料？每一筆資料包含哪些欄位？\n",
    "import requests\n",
    "import json\n",
    "res_pop = requests.get('https://www.dcard.tw/_api/forums/pet/posts?popular=true')\n",
    "res_npop = requests.get('https://www.dcard.tw/_api/forums/pet/posts?popular=false')\n",
    "json_pop_data=json.loads(res_pop.text)\n",
    "json_npop_data=json.loads(res_npop.text)\n",
    "\n",
    "print(len(json_pop_data))\n",
    "#一次回傳30筆\n",
    "\n",
    "print(json_pop_data[0].keys())\n",
    "#id, title, excerpt, anonymousSchool, anonymousDepartment... 很多欄位\n"
   ]
  },
  {
   "cell_type": "code",
   "execution_count": 11,
   "metadata": {},
   "outputs": [
    {
     "name": "stdout",
     "output_type": "stream",
     "text": [
      "標題: 最近刺蝟有點苦惱……, 貼文時間: 2019-11-27T14:09:04.187Z, 留言人數: 26, 按讚人數: 1228\n",
      "標題: 貓咪送養, 貼文時間: 2019-11-27T15:53:37.579Z, 留言人數: 9, 按讚人數: 159\n",
      "標題: 跪求原圖, 貼文時間: 2019-11-27T09:03:30.781Z, 留言人數: 7, 按讚人數: 99\n",
      "標題: 這些狗你認識嗎😍, 貼文時間: 2019-11-28T04:08:18.539Z, 留言人數: 7, 按讚人數: 85\n",
      "標題: 教不到2天就會握手的貓？！, 貼文時間: 2019-11-27T19:05:47.181Z, 留言人數: 28, 按讚人數: 65\n",
      "標題: 小cookie 一歲生日嘍, 貼文時間: 2019-11-27T13:29:28.841Z, 留言人數: 5, 按讚人數: 58\n",
      "標題: 充滿柴柴的人生❤️, 貼文時間: 2019-11-28T07:19:45.391Z, 留言人數: 2, 按讚人數: 57\n",
      "標題: #圖多 偷看🐹上廁所......, 貼文時間: 2019-11-28T13:44:17.224Z, 留言人數: 11, 按讚人數: 43\n",
      "標題: 兔子吃草a跩樣, 貼文時間: 2019-11-27T17:48:07.040Z, 留言人數: 4, 按讚人數: 40\n",
      "標題: 開箱ㄐㄅ貓貓, 貼文時間: 2019-11-27T16:20:13.198Z, 留言人數: 1, 按讚人數: 38\n",
      "標題: 送養貓咪, 貼文時間: 2019-11-27T14:33:01.950Z, 留言人數: 2, 按讚人數: 37\n",
      "標題: 耐ㄍ⋯, 貼文時間: 2019-11-27T16:36:38.742Z, 留言人數: 8, 按讚人數: 35\n",
      "標題: 請問這樣算不算虐貓, 貼文時間: 2019-11-28T09:04:40.825Z, 留言人數: 12, 按讚人數: 32\n",
      "標題: 兄弟貓🧐, 貼文時間: 2019-11-28T12:25:11.285Z, 留言人數: 3, 按讚人數: 28\n",
      "標題: 紙袋破壞王🏆, 貼文時間: 2019-11-28T09:43:33.709Z, 留言人數: 2, 按讚人數: 28\n",
      "標題: 妳的柯基犬很可愛, 貼文時間: 2019-11-27T12:15:40.192Z, 留言人數: 12, 按讚人數: 26\n",
      "標題: 高科大校板的遺失倉鼠, 貼文時間: 2019-11-28T05:23:12.530Z, 留言人數: 0, 按讚人數: 24\n",
      "標題: 尋貓啟示 更新#高雄岡山岡燕路全聯附近, 貼文時間: 2019-11-27T11:11:21.836Z, 留言人數: 10, 按讚人數: 24\n",
      "標題: 沒有責任感根本沒資格養寵物, 貼文時間: 2019-11-28T11:47:21.176Z, 留言人數: 3, 按讚人數: 23\n",
      "標題: 幼貓送養文, 貼文時間: 2019-11-28T02:52:25.651Z, 留言人數: 4, 按讚人數: 23\n",
      "標題: 蛇蛇吃飯（不喜勿入喔, 貼文時間: 2019-11-27T07:36:04.550Z, 留言人數: 12, 按讚人數: 22\n",
      "標題: 請問有人的柴犬走失嗎？(已找到失主，謝謝大家的幫忙🙏）, 貼文時間: 2019-11-28T14:57:09.825Z, 留言人數: 3, 按讚人數: 18\n",
      "標題: #募款 #貓 愛在街角，守護浪貓, 貼文時間: 2019-11-28T07:11:04.741Z, 留言人數: 1, 按讚人數: 18\n",
      "標題: 貓咪要如何避免被自己的💩臭死？, 貼文時間: 2019-11-27T14:33:19.704Z, 留言人數: 2, 按讚人數: 16\n",
      "標題: 終於知道去哪裡學來的睡姿⋯⋯, 貼文時間: 2019-11-27T08:59:09.803Z, 留言人數: 8, 按讚人數: 16\n",
      "標題: 幼貓送養🐱, 貼文時間: 2019-11-28T13:38:34.117Z, 留言人數: 4, 按讚人數: 15\n",
      "標題: 當我的貓和海豹都是一個囧臉, 貼文時間: 2019-11-28T05:35:09.787Z, 留言人數: 3, 按讚人數: 13\n",
      "標題: 求吸鴨地點, 貼文時間: 2019-11-28T03:29:49.177Z, 留言人數: 5, 按讚人數: 13\n",
      "標題: 天冷怎麼辦ಥ_ಥ #柯基#圖多, 貼文時間: 2019-11-28T15:47:50.708Z, 留言人數: 0, 按讚人數: 11\n",
      "標題: 貓咪教妳皮笑肉不笑🙂, 貼文時間: 2019-11-28T11:55:17.571Z, 留言人數: 1, 按讚人數: 11\n"
     ]
    }
   ],
   "source": [
    "# 2. 取出每一筆資料的「標題」、「貼文時間」、「留言人數」、「按讚人數」\n",
    "\n",
    "for data in json_pop_data:\n",
    "    print(f\"標題: {data['title']}, 貼文時間: {data['createdAt']}, 留言人數: {data['commentCount']}, 按讚人數: {data['likeCount']}\")"
   ]
  },
  {
   "cell_type": "code",
   "execution_count": 19,
   "metadata": {},
   "outputs": [
    {
     "name": "stdout",
     "output_type": "stream",
     "text": [
      "熱門平均留言人數: 6.09375 熱門平均按讚人數: 72.03125\n",
      "冷門平均留言人數: 2.1818181818181817 冷門平均按讚人數: 11.545454545454545\n"
     ]
    }
   ],
   "source": [
    "# 3. 計算熱門/非熱門文章的「平均留言人數」與「平均按讚人數」\n",
    "comment_count=0\n",
    "like_count=0\n",
    "for data in json_pop_data:\n",
    "    comment_count+=data['commentCount']\n",
    "    like_count+=data['likeCount']\n",
    "\n",
    "print(\"熱門平均留言人數:\",comment_count/len(data), \"熱門平均按讚人數:\",like_count/len(data))\n",
    "\n",
    "comment_count=0\n",
    "like_count=0\n",
    "for data in json_npop_data:\n",
    "    comment_count+=data['commentCount']\n",
    "    like_count+=data['likeCount']\n",
    "\n",
    "print(\"冷門平均留言人數:\",comment_count/len(data), \"冷門平均按讚人數:\",like_count/len(data))\n"
   ]
  },
  {
   "cell_type": "code",
   "execution_count": null,
   "metadata": {},
   "outputs": [],
   "source": []
  },
  {
   "cell_type": "code",
   "execution_count": null,
   "metadata": {},
   "outputs": [],
   "source": []
  }
 ],
 "metadata": {
  "kernelspec": {
   "display_name": "Python 3",
   "language": "python",
   "name": "python3"
  },
  "language_info": {
   "codemirror_mode": {
    "name": "ipython",
    "version": 3
   },
   "file_extension": ".py",
   "mimetype": "text/x-python",
   "name": "python",
   "nbconvert_exporter": "python",
   "pygments_lexer": "ipython3",
   "version": "3.7.4"
  }
 },
 "nbformat": 4,
 "nbformat_minor": 2
}
