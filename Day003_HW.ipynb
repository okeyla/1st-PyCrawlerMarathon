{
 "cells": [
  {
   "cell_type": "markdown",
   "metadata": {},
   "source": [
    "# Python 下載XML檔案與解析\n",
    "\n",
    "\n",
    "* 了解 xml 檔案格式與內容\n",
    "* 能夠利用套件存取 xml 格式的檔案\n"
   ]
  },
  {
   "cell_type": "markdown",
   "metadata": {},
   "source": [
    "## 作業目標\n",
    "\n",
    "* 比較一下範例檔案中的「File I/O」與「xmltodict」讀出來的內容有什麼差異\n",
    "\n",
    "* 根據範例檔案的結果：\n",
    "    1. 請問高雄市有多少地區有溫度資料？\n",
    "    2. 請取出每一個地區所記錄的第一個時間點跟溫度\n",
    "    3. 請取出第一個地區所記錄的每一個時間點跟溫度"
   ]
  },
  {
   "cell_type": "markdown",
   "metadata": {},
   "source": [
    "### 比較一下範例檔案中的「File I/O」與「xmltodict」讀出來的內容有什麼差異\n"
   ]
  },
  {
   "cell_type": "code",
   "execution_count": null,
   "metadata": {},
   "outputs": [],
   "source": [
    "'''\n",
    "File I/O 讀入, 無法選擇特定的內容讀取, 所以讀入的資料帶有標籤\n",
    "xmltodict 讀入, 可以選擇特定的內容讀取(標籤內容)\n",
    "'''"
   ]
  },
  {
   "cell_type": "markdown",
   "metadata": {},
   "source": [
    "### 根據範例檔案的結果：\n",
    "\n",
    "1. 請問高雄市有多少地區有溫度資料？\n",
    "2. 請取出每一個地區所記錄的第一個時間點跟溫度\n",
    "3. 請取出第一個地區所記錄的每一個時間點跟溫度"
   ]
  },
  {
   "cell_type": "code",
   "execution_count": 4,
   "metadata": {},
   "outputs": [
    {
     "data": {
      "text/plain": [
       "38"
      ]
     },
     "execution_count": 4,
     "metadata": {},
     "output_type": "execute_result"
    }
   ],
   "source": [
    "# 1. 請問高雄市有多少地區有溫度資料？\n",
    "\n",
    "import urllib.request\n",
    "import zipfile\n",
    "\n",
    "res = \"http://opendata.cwb.gov.tw/govdownload?dataid=F-D0047-093&authorizationkey=rdec-key-123-45678-011121314\"\n",
    "urllib.request.urlretrieve(res, \"./data/example.zip\")\n",
    "f = zipfile.ZipFile('./Data/example.zip')\n",
    "f.extractall('./Data')\n",
    "\n",
    "import os, sys\n",
    "\n",
    "fh = open(\"./Data/64_72hr_CH.xml\", \"r\", encoding=\"utf-8\")\n",
    "xml = fh.read()\n",
    "fh.close()\n",
    "\n",
    "import xmltodict\n",
    "d = dict(xmltodict.parse(xml))\n",
    "location = d['cwbopendata']['dataset']['locations']['location']\n",
    "\n",
    "len(location)"
   ]
  },
  {
   "cell_type": "code",
   "execution_count": 5,
   "metadata": {},
   "outputs": [
    {
     "name": "stdout",
     "output_type": "stream",
     "text": [
      "鹽埕區 2019-11-25T18:00:00+08:00 26\n",
      "鼓山區 2019-11-25T18:00:00+08:00 26\n",
      "左營區 2019-11-25T18:00:00+08:00 25\n",
      "楠梓區 2019-11-25T18:00:00+08:00 25\n",
      "三民區 2019-11-25T18:00:00+08:00 25\n",
      "新興區 2019-11-25T18:00:00+08:00 26\n",
      "前金區 2019-11-25T18:00:00+08:00 26\n",
      "苓雅區 2019-11-25T18:00:00+08:00 26\n",
      "前鎮區 2019-11-25T18:00:00+08:00 26\n",
      "旗津區 2019-11-25T18:00:00+08:00 25\n",
      "小港區 2019-11-25T18:00:00+08:00 26\n",
      "鳳山區 2019-11-25T18:00:00+08:00 26\n",
      "林園區 2019-11-25T18:00:00+08:00 26\n",
      "大寮區 2019-11-25T18:00:00+08:00 26\n",
      "大樹區 2019-11-25T18:00:00+08:00 26\n",
      "大社區 2019-11-25T18:00:00+08:00 26\n",
      "仁武區 2019-11-25T18:00:00+08:00 26\n",
      "鳥松區 2019-11-25T18:00:00+08:00 26\n",
      "岡山區 2019-11-25T18:00:00+08:00 25\n",
      "橋頭區 2019-11-25T18:00:00+08:00 26\n",
      "燕巢區 2019-11-25T18:00:00+08:00 25\n",
      "田寮區 2019-11-25T18:00:00+08:00 24\n",
      "阿蓮區 2019-11-25T18:00:00+08:00 24\n",
      "路竹區 2019-11-25T18:00:00+08:00 25\n",
      "湖內區 2019-11-25T18:00:00+08:00 24\n",
      "茄萣區 2019-11-25T18:00:00+08:00 24\n",
      "永安區 2019-11-25T18:00:00+08:00 24\n",
      "彌陀區 2019-11-25T18:00:00+08:00 24\n",
      "梓官區 2019-11-25T18:00:00+08:00 25\n",
      "旗山區 2019-11-25T18:00:00+08:00 24\n",
      "美濃區 2019-11-25T18:00:00+08:00 25\n",
      "六龜區 2019-11-25T18:00:00+08:00 22\n",
      "甲仙區 2019-11-25T18:00:00+08:00 21\n",
      "杉林區 2019-11-25T18:00:00+08:00 25\n",
      "內門區 2019-11-25T18:00:00+08:00 23\n",
      "茂林區 2019-11-25T18:00:00+08:00 23\n",
      "桃源區 2019-11-25T18:00:00+08:00 20\n",
      "那瑪夏區 2019-11-25T18:00:00+08:00 18\n"
     ]
    }
   ],
   "source": [
    "# 2. 請取出每一個地區所記錄的第一個時間點跟溫度\n",
    "\n",
    "for i in range(len(location)):\n",
    "    print(location[i]['locationName'], location[i]['weatherElement'][0]['time'][0]['dataTime'], location[i]['weatherElement'][0]['time'][0]['elementValue']['value'])"
   ]
  },
  {
   "cell_type": "code",
   "execution_count": 6,
   "metadata": {},
   "outputs": [
    {
     "name": "stdout",
     "output_type": "stream",
     "text": [
      "鹽埕區\n",
      "2019-11-25T18:00:00+08:00 26\n",
      "2019-11-25T21:00:00+08:00 24\n",
      "2019-11-26T00:00:00+08:00 23\n",
      "2019-11-26T03:00:00+08:00 22\n",
      "2019-11-26T06:00:00+08:00 22\n",
      "2019-11-26T09:00:00+08:00 23\n",
      "2019-11-26T12:00:00+08:00 26\n",
      "2019-11-26T15:00:00+08:00 26\n",
      "2019-11-26T18:00:00+08:00 25\n",
      "2019-11-26T21:00:00+08:00 23\n",
      "2019-11-27T00:00:00+08:00 22\n",
      "2019-11-27T03:00:00+08:00 22\n",
      "2019-11-27T06:00:00+08:00 21\n",
      "2019-11-27T09:00:00+08:00 23\n",
      "2019-11-27T12:00:00+08:00 27\n",
      "2019-11-27T15:00:00+08:00 27\n",
      "2019-11-27T18:00:00+08:00 25\n",
      "2019-11-27T21:00:00+08:00 23\n",
      "2019-11-28T00:00:00+08:00 22\n",
      "2019-11-28T03:00:00+08:00 21\n",
      "2019-11-28T06:00:00+08:00 20\n",
      "2019-11-28T09:00:00+08:00 22\n",
      "2019-11-28T12:00:00+08:00 26\n",
      "2019-11-28T15:00:00+08:00 26\n"
     ]
    }
   ],
   "source": [
    "# 3. 請取出第一個地區所記錄的每一個時間點跟溫度\n",
    "\n",
    "print(location[0]['locationName'])\n",
    "location1time = location[0]['weatherElement'][0]['time']\n",
    "\n",
    "for i in range(0,len(location1time)):\n",
    "    print(location1time[i]['dataTime'], location1time[i]['elementValue']['value'])"
   ]
  },
  {
   "cell_type": "code",
   "execution_count": null,
   "metadata": {},
   "outputs": [],
   "source": []
  }
 ],
 "metadata": {
  "kernelspec": {
   "display_name": "Python 3",
   "language": "python",
   "name": "python3"
  },
  "language_info": {
   "codemirror_mode": {
    "name": "ipython",
    "version": 3
   },
   "file_extension": ".py",
   "mimetype": "text/x-python",
   "name": "python",
   "nbconvert_exporter": "python",
   "pygments_lexer": "ipython3",
   "version": "3.7.4"
  }
 },
 "nbformat": 4,
 "nbformat_minor": 2
}
