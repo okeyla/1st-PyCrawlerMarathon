{
 "cells": [
  {
   "cell_type": "markdown",
   "metadata": {},
   "source": [
    "# Wikipedia爬蟲練習\n",
    "## 範例：練習是從Wikipedia中爬取文章。先定義一個搜尋的關鍵字，擷取該關鍵字詞的文章。"
   ]
  },
  {
   "cell_type": "code",
   "execution_count": 9,
   "metadata": {},
   "outputs": [],
   "source": [
    "import requests\n",
    "import re\n",
    "from bs4 import BeautifulSoup"
   ]
  },
  {
   "cell_type": "markdown",
   "metadata": {},
   "source": [
    "### 先定義一個我們想搜尋的字詞，並將它轉換成UTF-8編碼後的URL"
   ]
  },
  {
   "cell_type": "code",
   "execution_count": 10,
   "metadata": {},
   "outputs": [
    {
     "name": "stdout",
     "output_type": "stream",
     "text": [
      "電子紙: %E9%9B%BB%E5%AD%90%E7%B4%99\n",
      "/wiki/%E9%9B%BB%E5%AD%90%E7%B4%99\n"
     ]
    }
   ],
   "source": [
    "input_keyword = \"電子紙\"  # 這裡可以自己定義有興趣的關鍵字\n",
    "\n",
    "utf8_url = repr(input_keyword.encode('UTF-8')).upper()  # 編碼成UTF-8並轉成大寫字元\n",
    "utf8_url = utf8_url.replace(\"\\\\X\", \"%\")                 # 用 '%' 取代 '\\X' \n",
    "print(\"%s: %s\" % (input_keyword, utf8_url[2:-1:1]))     # 擷取中間的編碼結果\n",
    "\n",
    "# 組成Wiki關鍵字搜尋的網址格式\n",
    "root_keyword_link = '/wiki/' + utf8_url[2:-1:1]\n",
    "print(root_keyword_link)"
   ]
  },
  {
   "cell_type": "markdown",
   "metadata": {},
   "source": [
    "### 範例1：送出關鍵字請求後，爬取該關鍵字的文章內容"
   ]
  },
  {
   "cell_type": "code",
   "execution_count": 11,
   "metadata": {},
   "outputs": [
    {
     "name": "stdout",
     "output_type": "stream",
     "text": [
      "電子紙，簡稱ePaper，是顯示器技術，重點在於模仿以在紙上印刷、書寫的視覺觀感，而耗電量極小。不同於一般的平板顯示器以發光達成顯示功能，電子紙如同普通紙一樣，依靠環境光照亮，所以理論上閱讀起來較舒適，而且其顯示的影像能在陽光直照下仍然清晰可見，可視角極廣理論上為180度，其對比度比其他顯示技術高不少[來源請求]，大至而報章印刷效果相同，甚至更好。\n",
      "\n",
      "大部份電子紙在沒有電源情況下能顯示原先圖片和文字。部份設計以塑料背版和有機電子零件構成柔性電子紙，首款面向歐洲市場的柔性電子紙預計將於2012年4月上市。[來源請求]\n",
      "\n",
      "彩色電子紙已經商業性投產，能顯示四千種顏色，現階段生產商正向影片播放方向發展，樣機已經能播放每秒30格的黑白影片。\n",
      "\n",
      "電子紙顯示技術現已經應用於零售商店價簽、數位標牌、公車到站時間表、電子看板、手機螢幕、電子書閱讀器、穿戴式電子裝置。\n",
      "\n",
      "微膠囊電泳顯示器(Microencapsulated EPD, Microencapsulated ElectroPhoretic Display)是一種運用施加電場重新排列帶電色素粒子以顯像的技術。[1]\n",
      "\n",
      "]]\n",
      "\n",
      "1990 年代, 另一種建構於「微膠囊電泳顯示」電子墨水的技術原型在MIT出的研究所團隊被實作出並被稱為Nature Paper。J.D. Albert, Barrett Comiskey, Joseph Jacobson, Jeremy Rubin and Russ Wilcox 等人在 1997年將此技術商業化而創立了E Ink公司。 緊接著二年後,E Ink公司和Philips Components建立了夥伴關係以共同研發並行銷此項技術。在2005年，Philips將這項電紙事業和相關專利讓售給Prime View International(PVI) 公司。\n",
      "\n",
      "\n",
      "長久以來，研發人員企圖創造一種可撓，低價的電紙類顯示介質。在這種情境下，微粒子顯示技術 吸引了 研發人員的長期關注。可切換對比的顯示技術 以電氣驅動 高散射性 或吸收性的微粒子( 0.1-5mm尺度範圍內 )，不同於主流的液晶顯示的微分子特性 . 微粒子型的顯示技術 的雙穩態本質, 可以 直流電場 達到 非常低的耗電效率 同時擁有高對比和光反射率。這些特性, 結合 near-lambertian 觀賞特性，產生 紙上墨跡 的視覺效果。但這種顯示技術註定會受限於 短生命週期 和 不易量產 的 不良副作用。因此在匯入以微膠囊封裝了電泳粒子的 電泳墨水 技術, 可以解決 短生命週期 的缺點，同時又能完全以印刷方式製造雙穩態電子顯示屏。此系統就能讓電紙滿足實用的需求。[2]\n",
      "\n",
      "相比其他低耗電顯示解決方案，如LCD，電子紙的重新整理速度極低。導致生產商很難在應用電子紙的行動裝置上實現諸如如彈出式選單、游標操作、窗口捲動等需要較複雜互動式操作的功能，而這些功能已經日常化，並且常見於一般的行動裝置上。一個很鮮明的例子就是電子紙無法快速平滑放大縮小文件，必須藉助網點技術以加快速度。\n",
      "另外一個缺點是電子紙容易產生「殘影」（前一頁面圖像顯示在下一頁面上）。雖然這種圖像殘留很容易讓人想起早期CRT電視和現階段電漿電視的燒屏現象，但事實上電子紙上的圖像殘留是暫時性的，可以靠全黑全白螢幕迅速切換解決這一問題。這也是電子書相關廠商解決翻頁殘留的方法。\n",
      "\n"
     ]
    }
   ],
   "source": [
    "# 模擬封包的標頭\n",
    "headers = {\n",
    "    'authority': 'zh.wikipedia.org',\n",
    "    'method': 'GET',\n",
    "    'path': '/wiki/' + root_keyword_link,\n",
    "    'scheme': 'https',\n",
    "    'accept': 'text/html,application/xhtml+xml,application/xml;q=0.9,image/webp,image/apng,*/*;q=0.8,application/signed-exchange;v=b3',\n",
    "    'accept-encoding': 'gzip, deflate, br',\n",
    "    'accept-language': 'zh-TW,zh;q=0.9,en-US;q=0.8,en;q=0.7,zh-CN;q=0.6',\n",
    "    'cookie': 'GeoIP=TW:TPE:Taipei:25.05:121.53:v4; TBLkisOn=0; mwPhp7Seed=8b8; WMF-Last-Access-Global=04-Jun-2019; WMF-Last-Access=04-Jun-2019',\n",
    "    'dnt': '1',\n",
    "    #'if-modified-since': 'Tue, 04 Jun 2019 12:03:22 GMT',\n",
    "    'referer': 'https://zh.wikipedia.org/wiki/Wikipedia:%E9%A6%96%E9%A1%B5',\n",
    "    'upgrade-insecure-requests': '1',\n",
    "    'user-agent': 'Mozilla/5.0 (Windows NT 10.0; Win64; x64) AppleWebKit/537.36 (KHTML, like Gecko) Chrome/74.0.3729.169 Safari/537.36'\n",
    "}    \n",
    "\n",
    "url = 'https://zh.wikipedia.org' + root_keyword_link  # 組合關鍵字查詢URL\n",
    "resp = requests.get(url, headers=headers)\n",
    "resp.encoding = 'utf-8'\n",
    "\n",
    "html = BeautifulSoup(resp.text, \"lxml\")\n",
    "content = html.find(name='div', attrs={'id':'mw-content-text'}).find_all(name='p')\n",
    "\n",
    "#\n",
    "# 解析回傳資料，並萃取文章內容\n",
    "#\n",
    "for paragraph in content:\n",
    "    print(paragraph.get_text())\n"
   ]
  },
  {
   "cell_type": "markdown",
   "metadata": {},
   "source": [
    "### 範例2：從爬取的文章內容中，擷取出有外部連結的關鍵字。這些關鍵字在文章中是以藍色字體顯示，會連到外部的網頁，並解釋其內容。"
   ]
  },
  {
   "cell_type": "code",
   "execution_count": 12,
   "metadata": {},
   "outputs": [
    {
     "name": "stdout",
     "output_type": "stream",
     "text": [
      "外部連結: [顯示器] /wiki/%E6%98%BE%E7%A4%BA%E5%99%A8\n",
      "外部連結: [紙] /wiki/%E7%B4%99\n",
      "外部連結: [印刷] /wiki/%E5%8D%B0%E5%88%B7\n",
      "外部連結: [平板顯示器] /wiki/%E5%B9%B3%E6%9D%BF%E6%98%BE%E7%A4%BA%E5%99%A8\n",
      "外部連結: [可視角] /wiki/%E9%A1%AF%E7%A4%BA%E5%99%A8%E5%8F%AF%E8%A6%96%E8%A7%92%E5%BA%A6\n",
      "外部連結: [對比度] /wiki/%E5%B0%8D%E6%AF%94%E5%BA%A6\n",
      "外部連結: [[來源請求]] /wiki/Wikipedia:%E5%88%97%E6%98%8E%E6%9D%A5%E6%BA%90\n",
      "外部連結: [[來源請求]] /wiki/Wikipedia:%E5%88%97%E6%98%8E%E6%9D%A5%E6%BA%90\n",
      "外部連結: [數位標牌] /wiki/%E6%95%B0%E5%AD%97%E6%A0%87%E7%89%8C\n",
      "外部連結: [電子書閱讀器] /wiki/%E9%9B%BB%E5%AD%90%E6%9B%B8%E9%96%B1%E8%AE%80%E5%99%A8\n",
      "外部連結: [電場] /wiki/%E9%9B%BB%E5%A0%B4\n",
      "外部連結: [MIT] /wiki/%E9%BA%BB%E7%9C%81%E7%90%86%E5%B7%A5%E5%AD%A6%E9%99%A2\n",
      "外部連結: [E Ink公司] /wiki/E_Ink%E5%85%AC%E5%8F%B8\n",
      "外部連結: [E Ink公司] /wiki/E_Ink%E5%85%AC%E5%8F%B8\n",
      "外部連結: [LCD] /wiki/LCD\n",
      "外部連結: [燒屏] /wiki/%E7%A3%B7%E8%B4%A8%E7%83%99%E5%8D%B0\n"
     ]
    }
   ],
   "source": [
    "for ext_link in content:\n",
    "    a_tag = ext_link.find_all('a', href=re.compile(\"^(/wiki/)((?!;)\\S)*$\"))\n",
    "    if len(a_tag) > 0:\n",
    "        for link_string in a_tag:\n",
    "            a_link = link_string[\"href\"]       # 外部連結的網址\n",
    "            a_keyword = link_string.get_text()  # 外部連結的中文名稱\n",
    "            print(\"外部連結: [%s] %s\" % (a_keyword, a_link))"
   ]
  },
  {
   "cell_type": "markdown",
   "metadata": {},
   "source": [
    "## 作業：接下來定義一個爬蟲函數，這個函數的主要工作為：\n",
    "### (1) 爬取當前關鍵字的解釋，並存入檔案(因為文章內容太多會佔滿整個頁面，所以存程檔案，方便後續檢視)\n",
    "### (2) 萃取出當前關鍵字所引用的外部連結，當作新的查詢關鍵字\n",
    "### (3) 把第(2)擷取到的關鍵字當作新的關鍵字，回到第(1)步，爬取新的關鍵字解釋。"
   ]
  },
  {
   "cell_type": "code",
   "execution_count": 15,
   "metadata": {},
   "outputs": [],
   "source": [
    "def WikiArticle(key_word_link, key_word, recursive, max_recursive_depth):\n",
    "    \n",
    "    if (recursive <= max_recursive_depth):\n",
    "        print(\"遞迴層[%d] - %s (%s)\" % (recursive, key_word_link, key_word))\n",
    "        \n",
    "        # 模擬封包的標頭\n",
    "        headers = {\n",
    "            'authority': 'zh.wikipedia.org',\n",
    "            'method': 'GET',\n",
    "            'path': '/wiki/' + key_word_link,\n",
    "            'scheme': 'https',\n",
    "            'accept': 'text/html,application/xhtml+xml,application/xml;q=0.9,image/webp,image/apng,*/*;q=0.8,application/signed-exchange;v=b3',\n",
    "            'accept-encoding': 'gzip, deflate, br',\n",
    "            'accept-language': 'zh-TW,zh;q=0.9,en-US;q=0.8,en;q=0.7,zh-CN;q=0.6',\n",
    "            'cookie': 'GeoIP=TW:TPE:Taipei:25.05:121.53:v4; TBLkisOn=0; mwPhp7Seed=8b8; WMF-Last-Access-Global=04-Jun-2019; WMF-Last-Access=04-Jun-2019',\n",
    "            'dnt': '1',\n",
    "            #'if-modified-since': 'Tue, 04 Jun 2019 12:03:22 GMT',\n",
    "            'referer': 'https://zh.wikipedia.org/wiki/Wikipedia:%E9%A6%96%E9%A1%B5',\n",
    "            'upgrade-insecure-requests': '1',\n",
    "            'user-agent': 'Mozilla/5.0 (Windows NT 10.0; Win64; x64) AppleWebKit/537.36 (KHTML, like Gecko) Chrome/74.0.3729.169 Safari/537.36'\n",
    "        }    \n",
    "\n",
    "        url = 'https://zh.wikipedia.org' + key_word_link  # 組合關鍵字查詢URL\n",
    "        resp = requests.get(url, headers=headers)\n",
    "        resp.encoding = 'utf-8'\n",
    "\n",
    "        html = BeautifulSoup(resp.text, \"lxml\")\n",
    "        content = html.find(name='div', attrs={'id':'mw-content-text'}).find_all(name='p')\n",
    "        \n",
    "        #\n",
    "        # Part 1: 請參考範例1，爬取當前關鍵字的文章內容。\n",
    "        #         因為內容太多，我們把它寫入檔案，並以關鍵字作為檔案名稱，以便稍後查閱內容。\n",
    "        #         請先建立一個名為\"WikiArticle\"的資料夾，爬取到的文章內容會放在這個資料夾底下。\n",
    "        #\n",
    "        \n",
    "        with open('{}.txt'.format(key_word), 'w', encoding='utf-8') as f:\n",
    "            for paragraph in content:\n",
    "                f.write(paragraph.get_text())\n",
    "\n",
    "    \n",
    "        #\n",
    "        # Part 2: 請參考範例2，萃取出本篇文章中所延伸引用的外部連結，並儲存在external_link_dict\n",
    "        #\n",
    "        external_link_dict = dict({})\n",
    "\n",
    "        for ext_link in content:\n",
    "            a_tag = ext_link.find_all('a', href=re.compile(\"^(/wiki/)((?!;)\\S)*$\"))\n",
    "            if len(a_tag) > 0:\n",
    "                for link_string in a_tag:\n",
    "                    a_link = link_string[\"href\"]       # 外部連結的網址\n",
    "                    a_keyword = link_string.get_text()  # 外部連結的中文名稱\n",
    "                    external_link_dict[a_keyword] = a_link\n",
    "\n",
    "                    \n",
    "        #\n",
    "        # Part 3: 將Part 2所收集的外部連結，當作新的關鍵字，繼續迭代深入爬蟲\n",
    "        #\n",
    "        if (len(external_link_dict) > 0):\n",
    "            \n",
    "            recursive = recursive + 1  # 遞迴深度加1\n",
    "            \n",
    "            for k, v in external_link_dict.items():\n",
    "                WikiArticle(v, k, recursive, max_recursive_depth)   # 再次呼叫同樣的函數，執行同樣的流程\n",
    "                "
   ]
  },
  {
   "cell_type": "markdown",
   "metadata": {},
   "source": [
    "### 執行前個步驟定義好的爬蟲主程式"
   ]
  },
  {
   "cell_type": "code",
   "execution_count": null,
   "metadata": {},
   "outputs": [
    {
     "name": "stdout",
     "output_type": "stream",
     "text": [
      "遞迴層[0] - /wiki/%E9%9B%BB%E5%AD%90%E7%B4%99 (電子紙)\n",
      "遞迴層[1] - /wiki/%E6%98%BE%E7%A4%BA%E5%99%A8 (顯示器)\n",
      "遞迴層[2] - /wiki/%E9%9B%BB%E8%85%A6 (電腦)\n",
      "遞迴層[2] - /wiki/%E7%94%B5%E8%A7%86 (電視)\n",
      "遞迴層[2] - /wiki/%E9%98%B4%E6%9E%81%E5%B0%84%E7%BA%BF%E7%AE%A1 (陰極射線管)\n",
      "遞迴層[2] - /wiki/Apple_I (Apple I)\n",
      "遞迴層[2] - /wiki/LCD (LCD)\n",
      "遞迴層[2] - /wiki/LED (LED)\n",
      "遞迴層[2] - /wiki/%E8%8B%B1%E5%AF%B8 (英吋)\n",
      "遞迴層[2] - /wiki/%E9%95%B7%E5%AF%AC%E6%AF%94_(%E5%BD%B1%E5%83%8F) (長寬比)\n",
      "遞迴層[1] - /wiki/%E7%B4%99 (紙)\n",
      "遞迴層[2] - /wiki/%E7%BA%A4%E7%BB%B4 (纖維)\n",
      "遞迴層[2] - /wiki/%E8%A4%87%E5%AF%AB%E7%B4%99 (複寫紙)\n",
      "遞迴層[2] - /wiki/%E8%A1%9B%E7%94%9F%E7%B4%99 (衛生紙)\n",
      "遞迴層[2] - /wiki/%E9%9D%A2%E7%B4%99 (面紙)\n",
      "遞迴層[2] - /wiki/%E4%B8%AD%E5%9C%8B (中國)\n",
      "遞迴層[2] - /wiki/%E4%BA%BA%E7%B1%BB%E6%96%87%E6%98%8E (人類文明)\n",
      "遞迴層[2] - /wiki/%E4%B8%9C%E6%B1%89 (東漢)\n",
      "遞迴層[2] - /wiki/%E8%A8%B1%E6%85%8E (許慎)\n",
      "遞迴層[2] - /wiki/%E8%AA%AA%E6%96%87%E8%A7%A3%E5%AD%97 (說文解字)\n",
      "遞迴層[2] - /wiki/%E6%B8%85%E6%9C%9D (清)\n",
      "遞迴層[2] - /wiki/%E6%AE%B5%E7%8E%89%E8%A3%81 (段玉裁)\n",
      "遞迴層[2] - /wiki/%E5%8F%A4%E5%9F%83%E5%8F%8A (古埃及人)\n",
      "遞迴層[2] - /wiki/%E8%8E%8E%E8%8D%89%E7%BA%B8 (莎草紙)\n",
      "遞迴層[2] - /wiki/%E4%B8%AD%E5%9B%BD%E7%BA%B8 (中國紙)\n",
      "遞迴層[2] - /wiki/%E6%96%87%E5%AD%97 (文字)\n",
      "遞迴層[2] - /wiki/%E5%B7%B4%E6%AF%94%E4%BC%A6 (古巴比倫人)\n",
      "遞迴層[2] - /wiki/%E6%A5%94%E5%BD%A2%E6%96%87%E5%AD%97 (楔形文字)\n",
      "遞迴層[2] - /wiki/%E5%8D%B0%E5%BA%A6 (印度)\n",
      "遞迴層[2] - /wiki/%E7%94%B2%E9%AA%A8%E6%96%87 (甲骨文)\n",
      "遞迴層[2] - /wiki/%E8%A5%BF%E5%91%A8 (西周)\n",
      "遞迴層[2] - /wiki/%E9%87%91%E6%96%87 (銘文)\n",
      "遞迴層[2] - /wiki/%E9%9D%92%E9%93%9C%E5%99%A8 (青銅器)\n",
      "遞迴層[2] - /wiki/%E7%A7%A6 (秦)\n",
      "遞迴層[2] - /wiki/%E6%B1%89 (漢)\n",
      "遞迴層[2] - /wiki/%E9%99%B6%E5%99%A8 (陶器)\n",
      "遞迴層[2] - /wiki/%E7%AB%B9%E7%AE%80 (竹簡)\n",
      "遞迴層[2] - /wiki/%E7%B5%B2%E5%B8%9B (絲帛)\n",
      "遞迴層[2] - /wiki/%E4%B8%AD%E5%8E%9F (中原)\n",
      "遞迴層[2] - /wiki/%E5%89%8D%E6%B1%89 (前漢)\n",
      "遞迴層[2] - /wiki/%E5%AE%8B%E6%9C%9D (宋朝)\n",
      "遞迴層[2] - /wiki/%E8%98%87%E6%98%93%E7%B0%A1 (蘇易簡)\n",
      "遞迴層[2] - /wiki/%E8%92%99%E6%81%AC (蒙恬)\n",
      "遞迴層[2] - /wiki/%E8%94%A1%E5%80%AB (蔡倫)\n",
      "遞迴層[2] - /wiki/%E5%B4%94%E7%91%97 (崔瑗)\n",
      "遞迴層[2] - /wiki/%E8%91%9B%E9%BE%94 (葛龔)\n",
      "遞迴層[2] - /wiki/%E5%85%B0%E5%B7%9E (蘭州)\n",
      "遞迴層[2] - /wiki/%E6%B1%89%E7%81%B5%E5%B8%9D (靈帝)\n",
      "遞迴層[2] - /wiki/%E9%9A%B6%E4%B9%A6 (隸書)\n",
      "遞迴層[2] - /wiki/%E6%A5%B7%E4%B9%A6 (楷書)\n",
      "遞迴層[2] - /wiki/%E4%B8%9D%E7%BB%B8%E4%B9%8B%E8%B7%AF (絲綢之路)\n",
      "遞迴層[2] - /wiki/%E8%A5%BF%E5%9F%9F (西域)\n",
      "遞迴層[2] - /wiki/%E5%94%90%E6%9C%9D (唐朝)\n",
      "遞迴層[2] - /wiki/%E5%8D%B0%E5%88%B7%E6%9C%AF (印刷術)\n",
      "遞迴層[2] - /wiki/%E8%96%9B%E6%B6%9B (薛濤)\n",
      "遞迴層[2] - /wiki/%E5%A4%A9%E5%AF%B6 (天寶)\n",
      "遞迴層[2] - /wiki/%E9%80%A0%E7%B4%99%E8%A1%93 (造紙術)\n",
      "遞迴層[2] - /wiki/%E6%80%9B%E7%BE%85%E6%96%AF%E6%88%B0%E5%BD%B9 (怛羅斯戰役)\n",
      "遞迴層[2] - /wiki/%E5%A4%A7%E9%A3%9F (大食)\n",
      "遞迴層[2] - /wiki/%E5%BE%BD%E5%B7%9E (徽州)\n",
      "遞迴層[2] - /wiki/%E4%BD%99%E6%9D%AD (餘杭)\n",
      "遞迴層[2] - /wiki/%E6%BA%AB%E5%B7%9E (溫州)\n",
      "遞迴層[2] - /wiki/%E7%BB%8D%E5%85%B4 (紹興)\n",
      "遞迴層[2] - /wiki/%E6%B1%9F%E8%A5%BF (江西)\n",
      "遞迴層[2] - /wiki/%E5%AE%8B%E5%BA%94%E6%98%9F (宋應星)\n",
      "遞迴層[2] - /wiki/%E5%A4%A9%E5%B7%A5%E5%BC%80%E7%89%A9 (天工開物)\n",
      "遞迴層[2] - /wiki/%E6%96%87%E9%9C%87%E4%BA%A8 (文震亨)\n",
      "遞迴層[2] - /wiki/%E9%95%BF%E7%89%A9%E5%BF%97 (長物志)\n",
      "遞迴層[2] - /wiki/%E5%90%B4%E4%B8%AD (吳中)\n",
      "遞迴層[2] - /wiki/%E6%97%A5%E6%9C%AC (日本)\n",
      "遞迴層[2] - /wiki/%E8%A5%BF%E4%BA%9A (西亞)\n",
      "遞迴層[2] - /wiki/%E6%92%92%E9%A9%AC%E5%B0%94%E7%BD%95 (撒馬爾罕)\n",
      "遞迴層[2] - /wiki/%E9%98%BF%E6%8B%89%E4%BC%AF%E5%8D%8A%E5%B2%9B (阿拉伯半島)\n",
      "遞迴層[2] - /wiki/%E9%BA%A5%E5%8A%A0 (麥加)\n",
      "遞迴層[2] - /wiki/%E5%B7%B4%E6%A0%BC%E8%BE%BE (巴格達)\n",
      "遞迴層[2] - /wiki/%E5%9F%83%E5%8F%8A (埃及)\n",
      "遞迴層[2] - /wiki/%E8%A5%BF%E7%8F%AD%E7%89%99 (西班牙)\n",
      "遞迴層[2] - /wiki/%E5%85%8B%E8%90%A8%E8%92%82%E7%93%A6 (克薩蒂瓦)\n",
      "遞迴層[2] - /wiki/%E6%84%8F%E5%A4%A7%E5%88%A9 (義大利)\n",
      "遞迴層[2] - /wiki/%E6%B3%A2%E6%B4%9B%E5%B0%BC%E4%BA%9A (波洛尼亞)\n",
      "遞迴層[2] - /wiki/%E5%B8%95%E5%A4%9A%E7%93%A6 (帕多瓦)\n",
      "遞迴層[2] - /wiki/%E7%83%AD%E9%82%A3%E4%BA%9A (熱那亞)\n",
      "遞迴層[2] - /wiki/%E6%B3%95%E5%9B%BD (法國)\n",
      "遞迴層[2] - /wiki/%E7%89%B9%E9%B2%81%E7%93%A6 (特魯瓦)\n",
      "遞迴層[2] - /wiki/%E5%BE%B7%E5%9B%BD (德國)\n",
      "遞迴層[2] - /wiki/%E5%A4%9A%E5%BE%B7%E9%9B%B7%E8%B5%AB%E7%89%B9 (多德雷赫特)\n",
      "遞迴層[2] - /wiki/%E8%8B%B1%E5%9B%BD (英國)\n",
      "遞迴層[2] - /wiki/%E7%BE%8E%E6%B4%B2 (美洲)\n",
      "遞迴層[2] - /wiki/%E5%A2%A8%E8%A5%BF%E5%93%A5%E5%9F%8E (墨西哥城)\n",
      "遞迴層[2] - /wiki/%E8%B4%B9%E5%9F%8E (費城)\n",
      "遞迴層[2] - /wiki/%E5%8A%A0%E6%8B%BF%E5%A4%A7 (加拿大)\n",
      "遞迴層[2] - /wiki/%E9%AD%81%E5%8C%97%E5%85%8B (魁北克)\n",
      "遞迴層[2] - /wiki/%E9%BA%BB (麻)\n",
      "遞迴層[2] - /wiki/%E6%A3%89 (棉)\n",
      "遞迴層[2] - /wiki/%E8%97%A4 (藤)\n",
      "遞迴層[2] - /wiki/%E6%A1%91%E6%A0%91 (桑皮)\n",
      "遞迴層[2] - /wiki/%E6%AA%80%E6%A0%91 (檀皮)\n",
      "遞迴層[2] - /wiki/%E8%8A%99%E8%93%89 (芙蓉)\n",
      "遞迴層[2] - /wiki/%E7%A8%BB (稻)\n",
      "遞迴層[2] - /wiki/%E9%BA%A6 (麥)\n",
      "遞迴層[2] - /wiki/%E7%AB%B9 (竹)\n",
      "遞迴層[2] - /wiki/%E6%A0%91%E6%9C%A8 (樹木)\n",
      "遞迴層[2] - /wiki/%E6%8A%A5%E7%BA%B8 (報紙)\n",
      "遞迴層[2] - /wiki/%E8%A1%A3%E6%9C%8D (衣服)\n",
      "遞迴層[2] - /wiki/%E8%BB%9F%E6%9C%A8 (軟木)\n",
      "遞迴層[2] - /wiki/%E7%A1%AC%E6%9C%A8 (硬木)\n",
      "遞迴層[2] - /wiki/%E6%9C%A8%E8%B3%AA%E7%B4%A0 (木質素)\n",
      "遞迴層[2] - /wiki/%E7%9F%B3%E7%81%B0 (石灰)\n",
      "遞迴層[2] - /wiki/%E6%B0%A2%E6%B0%A7%E5%8C%96%E9%92%A0 (氫氧化鈉)\n",
      "遞迴層[2] - /wiki/%E7%A1%AB%E5%8C%96%E9%92%A0 (硫化鈉)\n",
      "遞迴層[2] - /wiki/%E4%BA%9A%E7%A1%AB%E9%85%B8%E7%9B%90 (亞硫酸鹽)\n",
      "遞迴層[2] - /wiki/%E5%A3%93%E5%8A%9B%E9%8D%8B (壓力鍋)\n",
      "遞迴層[2] - /wiki/%E6%9F%93%E6%96%99 (染料)\n",
      "遞迴層[2] - /wiki/%E6%B7%BB%E5%8A%A0%E5%8A%91 (添加劑)\n",
      "遞迴層[2] - /wiki/%E6%BC%82%E7%99%BD%E5%8A%91 (漂白劑)\n",
      "遞迴層[2] - /wiki/%E6%BC%82%E7%99%BD%E7%B2%89 (漂白粉)\n",
      "遞迴層[2] - /wiki/%E6%B6%B2%E6%B0%AF (液氯)\n",
      "遞迴層[2] - /wiki/%E5%8F%8C%E6%B0%A7%E6%B0%B4 (雙氧水)\n"
     ]
    }
   ],
   "source": [
    "# 定義爬取的遞迴深度。深度不要訂太深，否則會爬很久。\n",
    "max_recursive_depth = 2\n",
    "\n",
    "WikiArticle(root_keyword_link, input_keyword, 0, max_recursive_depth)"
   ]
  },
  {
   "cell_type": "code",
   "execution_count": null,
   "metadata": {},
   "outputs": [],
   "source": []
  }
 ],
 "metadata": {
  "kernelspec": {
   "display_name": "Python 3",
   "language": "python",
   "name": "python3"
  },
  "language_info": {
   "codemirror_mode": {
    "name": "ipython",
    "version": 3
   },
   "file_extension": ".py",
   "mimetype": "text/x-python",
   "name": "python",
   "nbconvert_exporter": "python",
   "pygments_lexer": "ipython3",
   "version": "3.7.4"
  }
 },
 "nbformat": 4,
 "nbformat_minor": 2
}
